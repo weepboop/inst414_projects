{
 "cells": [
  {
   "cell_type": "code",
   "execution_count": 1,
   "id": "f1ef994f-94da-4d82-bea7-d29ac35dcf9c",
   "metadata": {},
   "outputs": [],
   "source": [
    "import networkx as nx\n",
    "import matplotlib.pyplot as plt\n",
    "import pandas as pd\n",
    "import spotipy\n",
    "from spotipy.oauth2 import SpotifyClientCredentials"
   ]
  },
  {
   "cell_type": "code",
   "execution_count": 8,
   "id": "cf3b82f8-f1e5-4792-8cc5-6d7a7b661509",
   "metadata": {},
   "outputs": [],
   "source": [
    "client_id = '89b79519edb2463ca8d11e52a2ba9cbb'\n",
    "client_secret = 'f78401a575fd4bb7bad5378aed900c93'\n",
    "client_credentials_manager = SpotifyClientCredentials(client_id=client_id, client_secret=client_secret)\n",
    "sp = spotipy.Spotify(client_credentials_manager=client_credentials_manager)"
   ]
  },
  {
   "cell_type": "code",
   "execution_count": 3,
   "id": "b6cdb0b0-2269-4eeb-a8f1-9ffe48684fce",
   "metadata": {},
   "outputs": [],
   "source": [
    "# Fetch artists and top tracks\n",
    "def fetch_artists_tracks(genre='country', limit=50):\n",
    "    artist_tracks = {}\n",
    "    results = sp.search(q='genre:' + genre, type='artist', limit=limit)\n",
    "    \n",
    "    for item in results['artists']['items']:\n",
    "        artist_id = item['id']\n",
    "        artist_name = item['name']\n",
    "        top_tracks = sp.artist_top_tracks(artist_id)\n",
    "        \n",
    "        for track in top_tracks['tracks']:\n",
    "            for artist in track['artists']:\n",
    "                if artist['name'] != artist_name:\n",
    "                    artist_tracks.setdefault(artist_name, set()).add(artist['name'])\n",
    "    return artist_tracks"
   ]
  },
  {
   "cell_type": "code",
   "execution_count": 4,
   "id": "64d0aa94-fe1e-40c0-a354-933789f9c1f9",
   "metadata": {},
   "outputs": [],
   "source": [
    "# Create and build the graph\n",
    "def build_graph(artist_tracks):\n",
    "    G = nx.Graph()\n",
    "    for artist, collaborators in artist_tracks.items():\n",
    "        for collaborator in collaborators:\n",
    "            G.add_edge(artist, collaborator, weight=G[artist][collaborator]['weight'] + 1 if G.has_edge(artist, collaborator) else 1)\n",
    "    return G"
   ]
  },
  {
   "cell_type": "code",
   "execution_count": 5,
   "id": "12e86496-66bf-4fe9-a4a2-65d0447867d6",
   "metadata": {},
   "outputs": [],
   "source": [
    "def count_collaborations(G):\n",
    "    return {artist: sum(data['weight'] for _, data in G[artist].items()) for artist in G.nodes()}"
   ]
  },
  {
   "cell_type": "code",
   "execution_count": 6,
   "id": "4e5b0a4a-6805-43f9-9735-d674abd015aa",
   "metadata": {},
   "outputs": [],
   "source": [
    "# Fetch artist tracks and build the graph\n",
    "artist_tracks = fetch_artists_tracks()\n",
    "G = build_graph(artist_tracks)\n",
    "\n",
    "# Count collaborations and sort\n",
    "collaboration_counts = count_collaborations(G)\n",
    "sorted_collaborations = sorted(collaboration_counts.items(), key=lambda x: x[1], reverse=True)"
   ]
  },
  {
   "cell_type": "code",
   "execution_count": 9,
   "id": "6a081b3b-7420-4aef-9e21-8f8e52717c74",
   "metadata": {},
   "outputs": [
    {
     "name": "stdout",
     "output_type": "stream",
     "text": [
      "Top 10 Influential Artists:\n",
      "Willie Nelson:\n",
      "  Number of Collaborations: 27\n",
      "  Degree Centrality: 0.20689655172413793\n",
      "\n",
      "Eric Church:\n",
      "  Number of Collaborations: 21\n",
      "  Degree Centrality: 0.1724137931034483\n",
      "\n",
      "Post Malone:\n",
      "  Number of Collaborations: 10\n",
      "  Degree Centrality: 0.08620689655172414\n",
      "\n",
      "Jelly Roll:\n",
      "  Number of Collaborations: 9\n",
      "  Degree Centrality: 0.06034482758620689\n",
      "\n",
      "Jessie Murph:\n",
      "  Number of Collaborations: 9\n",
      "  Degree Centrality: 0.05172413793103448\n",
      "\n",
      "Morgan Wallen:\n",
      "  Number of Collaborations: 8\n",
      "  Degree Centrality: 0.06034482758620689\n",
      "\n",
      "HARDY:\n",
      "  Number of Collaborations: 8\n",
      "  Degree Centrality: 0.06034482758620689\n",
      "\n",
      "Johnny Cash:\n",
      "  Number of Collaborations: 8\n",
      "  Degree Centrality: 0.06034482758620689\n",
      "\n",
      "Lainey Wilson:\n",
      "  Number of Collaborations: 7\n",
      "  Degree Centrality: 0.04310344827586207\n",
      "\n",
      "Shaboozey:\n",
      "  Number of Collaborations: 7\n",
      "  Degree Centrality: 0.06034482758620689\n",
      "\n"
     ]
    }
   ],
   "source": [
    "# Print top 10 influential artists\n",
    "print(\"Top 10 Influential Artists:\")\n",
    "for artist, count in sorted_collaborations[:10]:\n",
    "    print(f\"{artist}:\")\n",
    "    print(f\"  Number of Collaborations: {count}\")\n",
    "    print(f\"  Degree Centrality: {nx.degree_centrality(G)[artist]}\\n\")"
   ]
  },
  {
   "cell_type": "code",
   "execution_count": 13,
   "id": "db8b8074-6f0a-45ed-9066-bdffa3dff2b8",
   "metadata": {},
   "outputs": [],
   "source": [
    "# Export the graph to a GraphML file\n",
    "#nx.write_graphml(G, 'spotify_network.graphml')"
   ]
  }
 ],
 "metadata": {
  "kernelspec": {
   "display_name": "Python 3 (ipykernel)",
   "language": "python",
   "name": "python3"
  },
  "language_info": {
   "codemirror_mode": {
    "name": "ipython",
    "version": 3
   },
   "file_extension": ".py",
   "mimetype": "text/x-python",
   "name": "python",
   "nbconvert_exporter": "python",
   "pygments_lexer": "ipython3",
   "version": "3.11.5"
  }
 },
 "nbformat": 4,
 "nbformat_minor": 5
}
