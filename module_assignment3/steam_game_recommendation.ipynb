{
 "cells": [
  {
   "cell_type": "code",
   "execution_count": 1,
   "id": "735a9dac-4537-4e8c-8388-67194411405e",
   "metadata": {},
   "outputs": [],
   "source": [
    "import pandas as pd\n",
    "import numpy as np\n",
    "from sklearn.metrics.pairwise import euclidean_distances"
   ]
  },
  {
   "cell_type": "code",
   "execution_count": 2,
   "id": "7aa88bae-51c9-4985-84e9-efde74d17158",
   "metadata": {},
   "outputs": [
    {
     "name": "stdout",
     "output_type": "stream",
     "text": [
      "Preview of Games DataFrame:\n",
      "   app_id                              title date_release   win    mac  linux  \\\n",
      "0   13500  Prince of Persia: Warrior Within™   2008-11-21  True  False  False   \n",
      "1   22364            BRINK: Agents of Change   2011-08-03  True  False  False   \n",
      "2  113020       Monaco: What's Yours Is Mine   2013-04-24  True   True   True   \n",
      "3  226560                 Escape Dead Island   2014-11-18  True  False  False   \n",
      "4  249050            Dungeon of the ENDLESS™   2014-10-27  True   True  False   \n",
      "\n",
      "          rating  positive_ratio  user_reviews  price_final  price_original  \\\n",
      "0  Very Positive              84          2199         9.99            9.99   \n",
      "1       Positive              85            21         2.99            2.99   \n",
      "2  Very Positive              92          3722        14.99           14.99   \n",
      "3          Mixed              61           873        14.99           14.99   \n",
      "4  Very Positive              88          8784        11.99           11.99   \n",
      "\n",
      "   discount  steam_deck  \n",
      "0       0.0        True  \n",
      "1       0.0        True  \n",
      "2       0.0        True  \n",
      "3       0.0        True  \n",
      "4       0.0        True  \n",
      "\n",
      "Preview of Recommendations DataFrame:\n",
      "    app_id  helpful  funny        date  is_recommended  hours  user_id  \\\n",
      "0   975370        0      0  2022-12-12            True   36.3    51580   \n",
      "1   304390        4      0  2017-02-17           False   11.5     2586   \n",
      "2  1085660        2      0  2019-11-17            True  336.5   253880   \n",
      "3   703080        0      0  2022-09-23            True   27.4   259432   \n",
      "4   526870        0      0  2021-01-10            True    7.9    23869   \n",
      "\n",
      "   review_id  \n",
      "0          0  \n",
      "1          1  \n",
      "2          2  \n",
      "3          3  \n",
      "4          4  \n",
      "\n"
     ]
    }
   ],
   "source": [
    "# Loads game and recommendation data\n",
    "games_df = pd.read_csv('games.csv')\n",
    "recommendation_df = pd.read_csv('recommendations.csv')\n",
    "\n",
    "# Prints preview\n",
    "print(f'Preview of Games DataFrame:\\n{games_df.head()}\\n')\n",
    "print(f'Preview of Recommendations DataFrame:\\n{recommendation_df.head()}\\n')"
   ]
  },
  {
   "cell_type": "code",
   "execution_count": 3,
   "id": "15f3e996-0be2-4ef1-a23f-cac933908379",
   "metadata": {},
   "outputs": [
    {
     "name": "stdout",
     "output_type": "stream",
     "text": [
      "   app_id                              title         rating  positive_ratio  \\\n",
      "0   13500  Prince of Persia: Warrior Within™  Very Positive              84   \n",
      "1   13500  Prince of Persia: Warrior Within™  Very Positive              84   \n",
      "2   13500  Prince of Persia: Warrior Within™  Very Positive              84   \n",
      "3   13500  Prince of Persia: Warrior Within™  Very Positive              84   \n",
      "4   13500  Prince of Persia: Warrior Within™  Very Positive              84   \n",
      "\n",
      "   user_reviews  hours  \n",
      "0          2199    0.4  \n",
      "1          2199   15.2  \n",
      "2          2199   19.4  \n",
      "3          2199   10.8  \n",
      "4          2199   10.9  \n"
     ]
    }
   ],
   "source": [
    "# Select relevant fields for comparison\n",
    "games = games_df[['app_id', 'title', 'rating', 'positive_ratio', 'user_reviews']]\n",
    "rec = recommendation_df[['app_id', 'hours']]\n",
    "\n",
    "# Merge datasets on 'app_id'\n",
    "df = pd.merge(games, rec, on='app_id')\n",
    "print(df.head())"
   ]
  },
  {
   "cell_type": "code",
   "execution_count": 4,
   "id": "6830f16c-e231-4416-bad8-9229acd3eaad",
   "metadata": {},
   "outputs": [],
   "source": [
    "# Define the fields for comparison\n",
    "field1 = ['positive_ratio']    # Compare based on user feedback ratio\n",
    "field2 = ['user_reviews']      # Compare based on the number of user reviews\n",
    "field3 = ['hours']             # Compare based on hours played\n",
    "\n",
    "# Convert columns to numeric and converting invalid data to NaN\n",
    "for col in field1 + field2 + field3:\n",
    "    df[col] = pd.to_numeric(df[col], errors='coerce')\n",
    "    \n",
    "# Drop rows with missing values\n",
    "df = df.dropna(subset=field1 + field2 + field3)\n",
    "df.reset_index(inplace=True, drop=True)"
   ]
  },
  {
   "cell_type": "code",
   "execution_count": 5,
   "id": "2db329b3-b8c5-45bf-9840-7538b0c21b7a",
   "metadata": {},
   "outputs": [],
   "source": [
    "titles = df[['title']].values.tolist()\n",
    "\n",
    "target_title = \"Counter-Strike: Global Offensive\"\n",
    "target_game_index = df[df['title'] == target_title].index[0]\n",
    "target_game = df.loc[target_game_index, field1 + field2 + field3].astype(float)\n"
   ]
  },
  {
   "cell_type": "code",
   "execution_count": 6,
   "id": "734111d4-41a7-439c-95b3-b5ed1cf63dde",
   "metadata": {},
   "outputs": [],
   "source": [
    "# Calculate distances for positive_ratio\n",
    "positive_ratio_distances = euclidean_distances(df[field1], [target_game[0:1]])[:, 0]\n",
    "positive_ratio_query_distances = list(zip(df.index, positive_ratio_distances))\n",
    "\n",
    "# Calculate distances for user_reviews\n",
    "user_reviews_distances = euclidean_distances(df[field2], [target_game[1:2]])[:, 0]\n",
    "user_reviews_query_distances = list(zip(df.index, user_reviews_distances))\n",
    "\n",
    "# Calculate distances for hours played\n",
    "hours_distances = euclidean_distances(df[field3], [target_game[2:3]])[:, 0]\n",
    "hours_query_distances = list(zip(df.index, hours_distances))"
   ]
  },
  {
   "cell_type": "code",
   "execution_count": 7,
   "id": "83ba9580-06ac-4fc3-883a-8945788737aa",
   "metadata": {},
   "outputs": [
    {
     "name": "stdout",
     "output_type": "stream",
     "text": [
      "\n",
      "Most Similar Games by Positive Ratio:\n",
      "Dungeon of the ENDLESS™ - Distance: 0.0\n",
      "Osmos - Distance: 0.0\n",
      "Angvik - Distance: 0.0\n",
      "Eradicator - Distance: 0.0\n",
      "Super Mega Baseball 2 - Distance: 0.0\n",
      "Archon Classic - Distance: 0.0\n",
      "Drox Operative - Distance: 0.0\n",
      "Sepia Tears - Distance: 0.0\n",
      "Demon Hunter 3: Revelation - Distance: 0.0\n",
      "Old Man's Journey - Distance: 0.0\n",
      "\n",
      "Most Similar Games by User Reviews:\n",
      "Counter-Strike: Global Offensive - Distance: 0.0\n",
      "PUBG: BATTLEGROUNDS - Distance: 5277234.0\n",
      "Dota 2 - Distance: 5448832.0\n",
      "Grand Theft Auto V - Distance: 6010338.0\n",
      "Tom Clancy's Rainbow Six® Siege - Distance: 6501148.0\n",
      "Team Fortress 2 - Distance: 6508641.0\n",
      "Terraria - Distance: 6551047.0\n",
      "Garry's Mod - Distance: 6640727.0\n",
      "Rust - Distance: 6707792.0\n",
      "Apex Legends™ - Distance: 6781278.0\n",
      "\n",
      "Most Similar Games by Hours Played:\n",
      "Osmos - Distance: 0.0\n",
      "Barony - Distance: 0.0\n",
      "Motorsport Manager - Distance: 0.0\n",
      "THE KING OF FIGHTERS '98 ULTIMATE MATCH FINAL EDITION - Distance: 0.0\n",
      "Bean Battles - Distance: 0.0\n",
      "Surviving the Aftermath - Distance: 0.0\n",
      "Ring of Elysium - Distance: 0.0\n",
      ".hack//G.U. Last Recode - Distance: 0.0\n",
      "Steel Division 2 - Distance: 0.0\n",
      "Bishojo Mangekyo Kotowari to Meikyu no Shojo - Distance: 0.0\n"
     ]
    }
   ],
   "source": [
    "# Check for unique names (no duplicate titles)\n",
    "unique_games_set = set()\n",
    "\n",
    "# Print most similar games by positive ratio\n",
    "print(\"\\nMost Similar Games by Positive Ratio:\")\n",
    "for index, distance in sorted(positive_ratio_query_distances, key=lambda x: x[1]):\n",
    "    if titles[index][0] not in unique_games_set:\n",
    "        print(f\"{titles[index][0]} - Distance: {distance}\")\n",
    "        unique_games_set.add(titles[index][0])\n",
    "    if len(unique_games_set) >= 10:\n",
    "        break # Print top 10 unique games\n",
    "        \n",
    "# clear for next use\n",
    "unique_games_set.clear()\n",
    "\n",
    "# Print most similar games by user reviews\n",
    "print(\"\\nMost Similar Games by User Reviews:\")\n",
    "for index, distance in sorted(user_reviews_query_distances, key=lambda x: x[1]):\n",
    "    if titles[index][0] not in unique_games_set:\n",
    "        print(f\"{titles[index][0]} - Distance: {distance}\")\n",
    "        unique_games_set.add(titles[index][0])\n",
    "    if len(unique_games_set) >= 10:\n",
    "        break # Print top 10 unique games\n",
    "\n",
    "# Print most similar games by hours played\n",
    "print(\"\\nMost Similar Games by Hours Played:\")\n",
    "for index, distance in sorted(hours_query_distances, key=lambda x: x[1])[:10]:\n",
    "    print(f\"{titles[index][0]} - Distance: {distance}\")"
   ]
  },
  {
   "cell_type": "code",
   "execution_count": 8,
   "id": "01641877-3e8c-4f67-9b1d-f862d1b1d662",
   "metadata": {},
   "outputs": [
    {
     "name": "stdout",
     "output_type": "stream",
     "text": [
      "\n",
      "Most Similar Games by User Reviews:\n",
      "The Binding of Isaac: Rebirth - Distance: 0.0\n",
      "New World - Distance: 3470.0\n",
      "DARK SOULS™ III - Distance: 4592.0\n",
      "Subnautica - Distance: 5478.0\n",
      "Monster Hunter: World - Distance: 7615.0\n",
      "Hades - Distance: 11548.0\n",
      "Geometry Dash - Distance: 13266.0\n",
      "Bloons TD 6 - Distance: 14123.0\n",
      "Raft - Distance: 14484.0\n",
      "No Man's Sky - Distance: 15844.0\n"
     ]
    }
   ],
   "source": [
    "# Checking a different game\n",
    "target_title = \"The Binding of Isaac: Rebirth\"\n",
    "target_game_index = df[df['title'] == target_title].index[0]\n",
    "target_game = df.loc[target_game_index, field1 + field2 + field3].astype(float)\n",
    "\n",
    "# Calculate distances for user_reviews\n",
    "user_reviews_distances = euclidean_distances(df[field2], [target_game[1:2]])[:, 0]\n",
    "user_reviews_query_distances = list(zip(df.index, user_reviews_distances))\n",
    "\n",
    "unique_games_set.clear()\n",
    "\n",
    "# Print most similar games by user reviews\n",
    "print(\"\\nMost Similar Games by User Reviews:\")\n",
    "for index, distance in sorted(user_reviews_query_distances, key=lambda x: x[1]):\n",
    "    if titles[index][0] not in unique_games_set:\n",
    "        print(f\"{titles[index][0]} - Distance: {distance}\")\n",
    "        unique_games_set.add(titles[index][0])\n",
    "    if len(unique_games_set) >= 10:\n",
    "        break # Print top 10 unique games"
   ]
  },
  {
   "cell_type": "code",
   "execution_count": null,
   "id": "021fa819-f904-4a74-b422-15287a639622",
   "metadata": {},
   "outputs": [],
   "source": []
  }
 ],
 "metadata": {
  "kernelspec": {
   "display_name": "Python 3 (ipykernel)",
   "language": "python",
   "name": "python3"
  },
  "language_info": {
   "codemirror_mode": {
    "name": "ipython",
    "version": 3
   },
   "file_extension": ".py",
   "mimetype": "text/x-python",
   "name": "python",
   "nbconvert_exporter": "python",
   "pygments_lexer": "ipython3",
   "version": "3.11.5"
  }
 },
 "nbformat": 4,
 "nbformat_minor": 5
}
